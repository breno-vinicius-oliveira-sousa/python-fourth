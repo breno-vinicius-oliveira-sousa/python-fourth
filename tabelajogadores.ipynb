{
 "cells": [
  {
   "attachments": {},
   "cell_type": "markdown",
   "metadata": {},
   "source": [
    "Criação do banco de dados \n",
    "Convertido para csv pelo https://www.convertcsv.com/sql-to-csv.htm"
   ]
  },
  {
   "cell_type": "code",
   "execution_count": null,
   "metadata": {},
   "outputs": [],
   "source": [
    "#CREATE TABLE Jogadores (\n",
    " #nomejogador VARCHAR(100),\n",
    " #salariojogador DECIMAL(10, 2),\n",
    "  #nomedotime VARCHAR(100),\n",
    "  #nomeestado VARCHAR(100)\n",
    "#);\n",
    "#INSERT INTO Jogadores (nomejogador, salariojogador, nomedotime, nomeestado)\n",
    "#VALUES ('Cristiano', 1000000.00, 'Real Madrid', 'Espanha');\n",
    "\n",
    "#INSERT INTO Jogadores (nomejogador, salariojogador, nomedotime, nomeestado)\n",
    "#VALUES ('Messi', 950000.00, 'Barcelona', 'Espanha');\n",
    "\n",
    "#INSERT INTO Jogadores (nomejogador, salariojogador, nomedotime, nomeestado)\n",
    "#VALUES ('Neymar', 850000.00, 'PSG', 'França');\n",
    "\n",
    "#INSERT INTO Jogadores (nomejogador, salariojogador, nomedotime, nomeestado)\n",
    "#VALUES ('Salah', 700000.00, 'Liverpool', 'Inglaterra');\n",
    "\n",
    "#INSERT INTO Jogadores (nomejogador, salariojogador, nomedotime, nomeestado)\n",
    "#VALUES ('Mbappé', 750000.00, 'PSG', 'França');"
   ]
  },
  {
   "cell_type": "code",
   "execution_count": 2,
   "metadata": {},
   "outputs": [],
   "source": [
    "import pandas as pd\n",
    "enade = pd.read_csv(\"tabela jogadores.csv\")"
   ]
  },
  {
   "cell_type": "code",
   "execution_count": 3,
   "metadata": {},
   "outputs": [
    {
     "data": {
      "text/html": [
       "<div>\n",
       "<style scoped>\n",
       "    .dataframe tbody tr th:only-of-type {\n",
       "        vertical-align: middle;\n",
       "    }\n",
       "\n",
       "    .dataframe tbody tr th {\n",
       "        vertical-align: top;\n",
       "    }\n",
       "\n",
       "    .dataframe thead th {\n",
       "        text-align: right;\n",
       "    }\n",
       "</style>\n",
       "<table border=\"1\" class=\"dataframe\">\n",
       "  <thead>\n",
       "    <tr style=\"text-align: right;\">\n",
       "      <th></th>\n",
       "      <th>nomejogador</th>\n",
       "      <th>salariojogador</th>\n",
       "      <th>nomedotime</th>\n",
       "      <th>nomeestado</th>\n",
       "    </tr>\n",
       "  </thead>\n",
       "  <tbody>\n",
       "    <tr>\n",
       "      <th>0</th>\n",
       "      <td>Cristiano</td>\n",
       "      <td>1000000.0</td>\n",
       "      <td>Real Madrid</td>\n",
       "      <td>Espanha</td>\n",
       "    </tr>\n",
       "    <tr>\n",
       "      <th>1</th>\n",
       "      <td>Messi</td>\n",
       "      <td>950000.0</td>\n",
       "      <td>Barcelona</td>\n",
       "      <td>Espanha</td>\n",
       "    </tr>\n",
       "    <tr>\n",
       "      <th>2</th>\n",
       "      <td>Neymar</td>\n",
       "      <td>850000.0</td>\n",
       "      <td>PSG</td>\n",
       "      <td>França</td>\n",
       "    </tr>\n",
       "    <tr>\n",
       "      <th>3</th>\n",
       "      <td>Salah</td>\n",
       "      <td>700000.0</td>\n",
       "      <td>Liverpool</td>\n",
       "      <td>Inglaterra</td>\n",
       "    </tr>\n",
       "    <tr>\n",
       "      <th>4</th>\n",
       "      <td>Mbappé</td>\n",
       "      <td>750000.0</td>\n",
       "      <td>PSG</td>\n",
       "      <td>França</td>\n",
       "    </tr>\n",
       "  </tbody>\n",
       "</table>\n",
       "</div>"
      ],
      "text/plain": [
       "  nomejogador  salariojogador   nomedotime  nomeestado\n",
       "0   Cristiano       1000000.0  Real Madrid     Espanha\n",
       "1       Messi        950000.0    Barcelona     Espanha\n",
       "2      Neymar        850000.0          PSG      França\n",
       "3       Salah        700000.0    Liverpool  Inglaterra\n",
       "4      Mbappé        750000.0          PSG      França"
      ]
     },
     "execution_count": 3,
     "metadata": {},
     "output_type": "execute_result"
    }
   ],
   "source": [
    "enade.head()"
   ]
  },
  {
   "cell_type": "code",
   "execution_count": 8,
   "metadata": {},
   "outputs": [],
   "source": [
    "enade = enade.dropna()"
   ]
  },
  {
   "cell_type": "code",
   "execution_count": 11,
   "metadata": {},
   "outputs": [],
   "source": [
    "enade['salarioanual'] = ['100000000.0', '2023298282.0', '202000000000.0', '2102166321132.0', '10000000000000.0']"
   ]
  },
  {
   "cell_type": "code",
   "execution_count": 12,
   "metadata": {},
   "outputs": [
    {
     "data": {
      "text/html": [
       "<div>\n",
       "<style scoped>\n",
       "    .dataframe tbody tr th:only-of-type {\n",
       "        vertical-align: middle;\n",
       "    }\n",
       "\n",
       "    .dataframe tbody tr th {\n",
       "        vertical-align: top;\n",
       "    }\n",
       "\n",
       "    .dataframe thead th {\n",
       "        text-align: right;\n",
       "    }\n",
       "</style>\n",
       "<table border=\"1\" class=\"dataframe\">\n",
       "  <thead>\n",
       "    <tr style=\"text-align: right;\">\n",
       "      <th></th>\n",
       "      <th>nomejogador</th>\n",
       "      <th>salariojogador</th>\n",
       "      <th>nomedotime</th>\n",
       "      <th>nomeestado</th>\n",
       "      <th>salarioanual</th>\n",
       "    </tr>\n",
       "  </thead>\n",
       "  <tbody>\n",
       "    <tr>\n",
       "      <th>0</th>\n",
       "      <td>Cristiano</td>\n",
       "      <td>1000000.0</td>\n",
       "      <td>Real Madrid</td>\n",
       "      <td>Espanha</td>\n",
       "      <td>100000000.0</td>\n",
       "    </tr>\n",
       "    <tr>\n",
       "      <th>1</th>\n",
       "      <td>Messi</td>\n",
       "      <td>950000.0</td>\n",
       "      <td>Barcelona</td>\n",
       "      <td>Espanha</td>\n",
       "      <td>2023298282.0</td>\n",
       "    </tr>\n",
       "    <tr>\n",
       "      <th>2</th>\n",
       "      <td>Neymar</td>\n",
       "      <td>850000.0</td>\n",
       "      <td>PSG</td>\n",
       "      <td>França</td>\n",
       "      <td>202000000000.0</td>\n",
       "    </tr>\n",
       "    <tr>\n",
       "      <th>3</th>\n",
       "      <td>Salah</td>\n",
       "      <td>700000.0</td>\n",
       "      <td>Liverpool</td>\n",
       "      <td>Inglaterra</td>\n",
       "      <td>2102166321132.0</td>\n",
       "    </tr>\n",
       "    <tr>\n",
       "      <th>4</th>\n",
       "      <td>Mbappé</td>\n",
       "      <td>750000.0</td>\n",
       "      <td>PSG</td>\n",
       "      <td>França</td>\n",
       "      <td>10000000000000.0</td>\n",
       "    </tr>\n",
       "  </tbody>\n",
       "</table>\n",
       "</div>"
      ],
      "text/plain": [
       "  nomejogador  salariojogador   nomedotime  nomeestado      salarioanual\n",
       "0   Cristiano       1000000.0  Real Madrid     Espanha       100000000.0\n",
       "1       Messi        950000.0    Barcelona     Espanha      2023298282.0\n",
       "2      Neymar        850000.0          PSG      França    202000000000.0\n",
       "3       Salah        700000.0    Liverpool  Inglaterra   2102166321132.0\n",
       "4      Mbappé        750000.0          PSG      França  10000000000000.0"
      ]
     },
     "execution_count": 12,
     "metadata": {},
     "output_type": "execute_result"
    }
   ],
   "source": [
    "enade.head()"
   ]
  },
  {
   "cell_type": "code",
   "execution_count": 13,
   "metadata": {},
   "outputs": [],
   "source": [
    "enade['nomejogador'] = enade['nomejogador'].str.upper()\n"
   ]
  },
  {
   "cell_type": "code",
   "execution_count": 14,
   "metadata": {},
   "outputs": [
    {
     "data": {
      "text/html": [
       "<div>\n",
       "<style scoped>\n",
       "    .dataframe tbody tr th:only-of-type {\n",
       "        vertical-align: middle;\n",
       "    }\n",
       "\n",
       "    .dataframe tbody tr th {\n",
       "        vertical-align: top;\n",
       "    }\n",
       "\n",
       "    .dataframe thead th {\n",
       "        text-align: right;\n",
       "    }\n",
       "</style>\n",
       "<table border=\"1\" class=\"dataframe\">\n",
       "  <thead>\n",
       "    <tr style=\"text-align: right;\">\n",
       "      <th></th>\n",
       "      <th>nomejogador</th>\n",
       "      <th>salariojogador</th>\n",
       "      <th>nomedotime</th>\n",
       "      <th>nomeestado</th>\n",
       "      <th>salarioanual</th>\n",
       "    </tr>\n",
       "  </thead>\n",
       "  <tbody>\n",
       "    <tr>\n",
       "      <th>0</th>\n",
       "      <td>CRISTIANO</td>\n",
       "      <td>1000000.0</td>\n",
       "      <td>Real Madrid</td>\n",
       "      <td>Espanha</td>\n",
       "      <td>100000000.0</td>\n",
       "    </tr>\n",
       "    <tr>\n",
       "      <th>1</th>\n",
       "      <td>MESSI</td>\n",
       "      <td>950000.0</td>\n",
       "      <td>Barcelona</td>\n",
       "      <td>Espanha</td>\n",
       "      <td>2023298282.0</td>\n",
       "    </tr>\n",
       "    <tr>\n",
       "      <th>2</th>\n",
       "      <td>NEYMAR</td>\n",
       "      <td>850000.0</td>\n",
       "      <td>PSG</td>\n",
       "      <td>França</td>\n",
       "      <td>202000000000.0</td>\n",
       "    </tr>\n",
       "    <tr>\n",
       "      <th>3</th>\n",
       "      <td>SALAH</td>\n",
       "      <td>700000.0</td>\n",
       "      <td>Liverpool</td>\n",
       "      <td>Inglaterra</td>\n",
       "      <td>2102166321132.0</td>\n",
       "    </tr>\n",
       "    <tr>\n",
       "      <th>4</th>\n",
       "      <td>MBAPPÉ</td>\n",
       "      <td>750000.0</td>\n",
       "      <td>PSG</td>\n",
       "      <td>França</td>\n",
       "      <td>10000000000000.0</td>\n",
       "    </tr>\n",
       "  </tbody>\n",
       "</table>\n",
       "</div>"
      ],
      "text/plain": [
       "  nomejogador  salariojogador   nomedotime  nomeestado      salarioanual\n",
       "0   CRISTIANO       1000000.0  Real Madrid     Espanha       100000000.0\n",
       "1       MESSI        950000.0    Barcelona     Espanha      2023298282.0\n",
       "2      NEYMAR        850000.0          PSG      França    202000000000.0\n",
       "3       SALAH        700000.0    Liverpool  Inglaterra   2102166321132.0\n",
       "4      MBAPPÉ        750000.0          PSG      França  10000000000000.0"
      ]
     },
     "execution_count": 14,
     "metadata": {},
     "output_type": "execute_result"
    }
   ],
   "source": [
    "enade.head()"
   ]
  },
  {
   "cell_type": "code",
   "execution_count": 15,
   "metadata": {},
   "outputs": [
    {
     "name": "stdout",
     "output_type": "stream",
     "text": [
      "       salariojogador\n",
      "count         5.00000\n",
      "mean     850000.00000\n",
      "std      127475.48784\n",
      "min      700000.00000\n",
      "25%      750000.00000\n",
      "50%      850000.00000\n",
      "75%      950000.00000\n",
      "max     1000000.00000\n"
     ]
    }
   ],
   "source": [
    "estatisticas = enade.describe()\n",
    "print(estatisticas)"
   ]
  },
  {
   "cell_type": "code",
   "execution_count": 16,
   "metadata": {},
   "outputs": [
    {
     "name": "stdout",
     "output_type": "stream",
     "text": [
      "  nomejogador   nomedotime\n",
      "0   CRISTIANO  Real Madrid\n",
      "1       MESSI    Barcelona\n",
      "2      NEYMAR          PSG\n",
      "3       SALAH    Liverpool\n",
      "4      MBAPPÉ          PSG\n"
     ]
    }
   ],
   "source": [
    "jogadores_acima_200k = enade.loc[enade['salariojogador'] > 200000.0, ['nomejogador', 'nomedotime']]\n",
    "print(jogadores_acima_200k)"
   ]
  },
  {
   "cell_type": "code",
   "execution_count": 18,
   "metadata": {},
   "outputs": [
    {
     "name": "stdout",
     "output_type": "stream",
     "text": [
      "  nomejogador  salariojogador\n",
      "2      NEYMAR        850000.0\n",
      "4      MBAPPÉ        750000.0\n"
     ]
    }
   ],
   "source": [
    "jogadores_mg = enade.loc[enade['nomeestado'] == 'França', ['nomejogador', 'salariojogador']]\n",
    "print(jogadores_mg)"
   ]
  },
  {
   "cell_type": "code",
   "execution_count": 22,
   "metadata": {},
   "outputs": [
    {
     "name": "stdout",
     "output_type": "stream",
     "text": [
      "Empty DataFrame\n",
      "Columns: [nomejogador, nomedotime]\n",
      "Index: []\n"
     ]
    }
   ],
   "source": [
    "jogadores_com_u = enade.loc[enade['nomejogador'].str.contains('u', case=False), ['nomejogador', 'nomedotime']]\n",
    "print(jogadores_com_u)"
   ]
  },
  {
   "cell_type": "code",
   "execution_count": 25,
   "metadata": {},
   "outputs": [
    {
     "name": "stdout",
     "output_type": "stream",
     "text": [
      "  nomejogador  salariojogador   nomedotime\n",
      "0   CRISTIANO       1000000.0  Real Madrid\n",
      "1       MESSI        950000.0    Barcelona\n",
      "2      NEYMAR        850000.0          PSG\n",
      "4      MBAPPÉ        750000.0          PSG\n",
      "3       SALAH        700000.0    Liverpool\n"
     ]
    }
   ],
   "source": [
    "jogadores_ordenados = enade[['nomejogador', 'salariojogador', 'nomedotime']].sort_values(by='salariojogador', ascending=False)\n",
    "print(jogadores_ordenados)"
   ]
  },
  {
   "cell_type": "code",
   "execution_count": 26,
   "metadata": {},
   "outputs": [
    {
     "name": "stdout",
     "output_type": "stream",
     "text": [
      "  nomejogador  salariojogador   nomedotime\n",
      "3       SALAH        700000.0    Liverpool\n",
      "4      MBAPPÉ        750000.0          PSG\n",
      "2      NEYMAR        850000.0          PSG\n",
      "1       MESSI        950000.0    Barcelona\n",
      "0   CRISTIANO       1000000.0  Real Madrid\n"
     ]
    }
   ],
   "source": [
    "jogadores_ordenados = enade[['nomejogador', 'salariojogador', 'nomedotime']].sort_values(by='salariojogador', ascending=True)\n",
    "print(jogadores_ordenados)"
   ]
  },
  {
   "cell_type": "code",
   "execution_count": 27,
   "metadata": {},
   "outputs": [
    {
     "name": "stdout",
     "output_type": "stream",
     "text": [
      "nomedotime\n",
      "PSG            2\n",
      "Real Madrid    1\n",
      "Barcelona      1\n",
      "Liverpool      1\n",
      "Name: count, dtype: int64\n"
     ]
    }
   ],
   "source": [
    "quantidade_por_time = enade['nomedotime'].value_counts()\n",
    "print(quantidade_por_time)"
   ]
  },
  {
   "cell_type": "code",
   "execution_count": 28,
   "metadata": {},
   "outputs": [
    {
     "name": "stdout",
     "output_type": "stream",
     "text": [
      "nomedotime\n",
      "Barcelona       950000.0\n",
      "Liverpool       700000.0\n",
      "PSG             800000.0\n",
      "Real Madrid    1000000.0\n",
      "Name: salariojogador, dtype: float64\n"
     ]
    }
   ],
   "source": [
    "media_salarial_por_time = enade.groupby('nomedotime')['salariojogador'].mean()\n",
    "print(media_salarial_por_time)"
   ]
  }
 ],
 "metadata": {
  "kernelspec": {
   "display_name": "Python 3",
   "language": "python",
   "name": "python3"
  },
  "language_info": {
   "codemirror_mode": {
    "name": "ipython",
    "version": 3
   },
   "file_extension": ".py",
   "mimetype": "text/x-python",
   "name": "python",
   "nbconvert_exporter": "python",
   "pygments_lexer": "ipython3",
   "version": "3.10.7"
  },
  "orig_nbformat": 4
 },
 "nbformat": 4,
 "nbformat_minor": 2
}
